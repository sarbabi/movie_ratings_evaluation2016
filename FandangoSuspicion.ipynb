{
 "cells": [
  {
   "cell_type": "code",
   "execution_count": 2,
   "metadata": {
    "collapsed": false
   },
   "outputs": [
    {
     "data": {
      "text/plain": [
       "(array([  4.,   4.,   4.,  13.,  10.,  35.,  29.,  22.,  17.,   8.]),\n",
       " array([ 2.  ,  2.23,  2.46,  2.69,  2.92,  3.15,  3.38,  3.61,  3.84,\n",
       "         4.07,  4.3 ]),\n",
       " <a list of 10 Patch objects>)"
      ]
     },
     "execution_count": 2,
     "metadata": {},
     "output_type": "execute_result"
    }
   ],
   "source": [
    "import pandas as pd\n",
    "import matplotlib.pyplot as plt\n",
    "#%matplotlib inline\n",
    "\n",
    "movie_reviews = pd.read_csv(\"fandango_score_comparison.csv\")\n",
    "\n",
    "fig = plt.figure(figsize=(5, 12))\n",
    "ax1 = fig.add_subplot(411, xlim=(0, 5.0), title=\"RT_User_Norm\")\n",
    "ax2 = fig.add_subplot(412, xlim=(0, 5.0), title=\"Metacritic_User_Norm\")\n",
    "ax3 = fig.add_subplot(413, xlim=(0, 5.0), title=\"Fandango_User\")\n",
    "ax4 = fig.add_subplot(414, xlim=(0, 5.0), title=\"IMDB_User\")\n",
    "\n",
    "ax1.grid()\n",
    "ax2.grid()\n",
    "ax3.grid()\n",
    "ax4.grid()\n",
    "ax1.hist(movie_reviews[\"RT_user_norm\"])\n",
    "ax2.hist(movie_reviews[\"Metacritic_user_nom\"])\n",
    "ax3.hist(movie_reviews[\"Fandango_Ratingvalue\"])\n",
    "ax4.hist(movie_reviews[\"IMDB_norm\"])"
   ]
  },
  {
   "cell_type": "code",
   "execution_count": 3,
   "metadata": {
    "collapsed": false
   },
   "outputs": [
    {
     "name": "stdout",
     "output_type": "stream",
     "text": [
      "RT_user_norm            3.193836\n",
      "Metacritic_user_nom     3.259589\n",
      "Fandango_Ratingvalue    3.845205\n",
      "IMDB_norm               3.368493\n",
      "dtype: float64\n"
     ]
    }
   ],
   "source": [
    "import numpy\n",
    "user_reviews = movie_reviews[[\"RT_user_norm\", \"Metacritic_user_nom\", \"Fandango_Ratingvalue\", \"IMDB_norm\"]]\n",
    "\n",
    "mean_reviews = user_reviews.apply(numpy.mean)\n",
    "rt_mean = mean_reviews[\"RT_user_norm\"]\n",
    "mc_mean = mean_reviews[\"Metacritic_user_nom\"]\n",
    "fg_mean = mean_reviews[\"Fandango_Ratingvalue\"]\n",
    "id_mean = mean_reviews[\"IMDB_norm\"]\n",
    "print(mean_reviews)"
   ]
  },
  {
   "cell_type": "code",
   "execution_count": 4,
   "metadata": {
    "collapsed": false
   },
   "outputs": [
    {
     "name": "stdout",
     "output_type": "stream",
     "text": [
      "0.9977867701726001 0.7527646548778222 0.5011059264856255 0.4777234003200607\n",
      "0.9955784387314691 0.5666546256333267 0.2511071495590171 0.228219647213361\n"
     ]
    }
   ],
   "source": [
    "rt_stdev = numpy.std(movie_reviews[\"RT_user_norm\"])\n",
    "rt_var = rt_stdev**2\n",
    "\n",
    "mc_stdev = numpy.std(movie_reviews[\"Metacritic_user_nom\"])\n",
    "mc_var = mc_stdev**2\n",
    "\n",
    "fg_stdev = numpy.std(movie_reviews[\"Fandango_Ratingvalue\"])\n",
    "fg_var = fg_stdev**2\n",
    "\n",
    "id_stdev = numpy.std(movie_reviews[\"IMDB_norm\"])\n",
    "id_var = id_stdev**2\n",
    "\n",
    "print(rt_stdev, mc_stdev, fg_stdev, id_stdev)\n",
    "print(rt_var, mc_var, fg_var, id_var)"
   ]
  },
  {
   "cell_type": "code",
   "execution_count": 5,
   "metadata": {
    "collapsed": false
   },
   "outputs": [
    {
     "data": {
      "text/plain": [
       "<matplotlib.collections.PathCollection at 0x117954588>"
      ]
     },
     "execution_count": 5,
     "metadata": {},
     "output_type": "execute_result"
    }
   ],
   "source": [
    "fig = plt.figure(figsize=(4,8))\n",
    "ax1 = fig.add_subplot(311, xlim=(0.0, 5.0), ylim=(2.5,5.0), title=\"Fd vs RT\")\n",
    "ax1.scatter(movie_reviews[\"RT_user_norm\"], movie_reviews[\"Fandango_Ratingvalue\"])\n",
    "ax2 = fig.add_subplot(312, xlim=(0.0, 5.0), ylim=(2.5,5.0), title=\"Fd vs MC\")\n",
    "ax2.scatter( movie_reviews[\"Metacritic_user_nom\"], movie_reviews[\"Fandango_Ratingvalue\"])\n",
    "ax3 = fig.add_subplot(313, xlim=(0.0, 5.0), ylim=(2.5,5.0), title=\"Fd vs ID\")\n",
    "ax3.scatter(movie_reviews[\"IMDB_norm\"], movie_reviews[\"Fandango_Ratingvalue\"])"
   ]
  },
  {
   "cell_type": "code",
   "execution_count": 6,
   "metadata": {
    "collapsed": false
   },
   "outputs": [
    {
     "name": "stdout",
     "output_type": "stream",
     "text": [
      "0.362162225558\n",
      "0.127100769375\n",
      "0.143718802777\n"
     ]
    }
   ],
   "source": [
    "def calc_covariance(serie1, serie2):\n",
    "    return numpy.cov(serie1, serie2, bias=1)[0,1]\n",
    "rt_fg_covar = calc_covariance(movie_reviews[\"Fandango_Ratingvalue\"], movie_reviews[\"RT_user_norm\"])\n",
    "mc_fg_covar = calc_covariance(movie_reviews[\"Fandango_Ratingvalue\"], movie_reviews[\"Metacritic_user_nom\"])\n",
    "id_fg_covar = calc_covariance(movie_reviews[\"Fandango_Ratingvalue\"], movie_reviews[\"IMDB_norm\"])\n",
    "print(rt_fg_covar)\n",
    "print(mc_fg_covar)\n",
    "print(id_fg_covar)"
   ]
  },
  {
   "cell_type": "code",
   "execution_count": 10,
   "metadata": {
    "collapsed": false
   },
   "outputs": [
    {
     "name": "stdout",
     "output_type": "stream",
     "text": [
      "0.724328994249 0.336945314265 0.600354177263\n"
     ]
    }
   ],
   "source": [
    "from scipy.stats.stats import pearsonr\n",
    "def calc_correlation(serie1, serie2):\n",
    "    r, p_value = pearsonr(serie1, serie2)\n",
    "    return r\n",
    "rt_fg_corr = calc_correlation(movie_reviews[\"RT_user_norm\"], movie_reviews[\"Fandango_Ratingvalue\"])\n",
    "mc_fg_corr = calc_correlation(movie_reviews[\"Metacritic_user_nom\"], movie_reviews[\"Fandango_Ratingvalue\"])\n",
    "id_fg_corr = calc_correlation(movie_reviews[\"IMDB_norm\"], movie_reviews[\"Fandango_Ratingvalue\"])\n",
    "print(rt_fg_corr, mc_fg_corr, id_fg_corr)"
   ]
  },
  {
   "cell_type": "code",
   "execution_count": null,
   "metadata": {
    "collapsed": true
   },
   "outputs": [],
   "source": []
  }
 ],
 "metadata": {
  "anaconda-cloud": {},
  "kernelspec": {
   "display_name": "Python [conda root]",
   "language": "python",
   "name": "conda-root-py"
  },
  "language_info": {
   "codemirror_mode": {
    "name": "ipython",
    "version": 3
   },
   "file_extension": ".py",
   "mimetype": "text/x-python",
   "name": "python",
   "nbconvert_exporter": "python",
   "pygments_lexer": "ipython3",
   "version": "3.5.2"
  }
 },
 "nbformat": 4,
 "nbformat_minor": 1
}
